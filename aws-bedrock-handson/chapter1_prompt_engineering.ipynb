{
 "cells": [
  {
   "cell_type": "markdown",
   "id": "a7b05d54-35e8-4679-b930-d5de24c0e26f",
   "metadata": {},
   "source": [
    "# Amazon Bedrock Activation Workshop Chapter1: プロンプトエンジニアリング\n",
    "\n",
    "本チャプターでは、Claude v2 を使った、プロンプトエンジニアリングについて説明します。  \n",
    "システム設計を行うプロンプトや、宣伝メールを生成するプロンプトの例をもとに、実際のアプリケーション開発を想定した解説を行います。"
   ]
  },
  {
   "cell_type": "markdown",
   "id": "3152d8ee-a3f5-4e9f-ab33-5edea226d327",
   "metadata": {},
   "source": [
    "## 事前準備"
   ]
  },
  {
   "cell_type": "code",
   "execution_count": null,
   "id": "750033aa-82ef-405b-94a0-196d0d21821b",
   "metadata": {
    "tags": []
   },
   "outputs": [],
   "source": [
    "from typing import List, Dict\n",
    "from sagemaker import Session\n",
    "import boto3\n",
    "from boto3.session import Session\n",
    "from langchain.chat_models import BedrockChat\n",
    "from langchain.schema import HumanMessage\n",
    "from langchain.chains import *\n",
    "from langchain.prompts import PromptTemplate\n",
    "from langchain.prompts.few_shot import FewShotPromptTemplate\n",
    "\n",
    "from langchain.prompts.chat import *"
   ]
  },
  {
   "cell_type": "code",
   "execution_count": null,
   "id": "4dc89ae0-d414-490f-975d-7468e476a4b2",
   "metadata": {
    "tags": []
   },
   "outputs": [],
   "source": [
    "# Need update to GNU C++ compiler version\n",
    "!apt-get update && apt-get install -y build-essential --quiet\n",
    "!pip install shap --quiet\n",
    "# Installs dependencies reuqired for chromadb memory vectordb and embedding library\n",
    "!pip install chromadb tiktoken langchain --quiet"
   ]
  },
  {
   "cell_type": "code",
   "execution_count": null,
   "id": "b028df8f-22e0-4459-87bd-7e00d3169dbb",
   "metadata": {
    "tags": []
   },
   "outputs": [],
   "source": [
    "from langchain.llms import Bedrock\n",
    "from langchain.chat_models import BedrockChat\n",
    "from langchain.schema import HumanMessage\n",
    "import json\n",
    "\n",
    "bedrock_runtime = boto3.client(service_name='bedrock-runtime', region_name='us-east-1')"
   ]
  },
  {
   "cell_type": "code",
   "execution_count": null,
   "id": "440fc0fa-7f1c-411f-893e-a3320e2a7d44",
   "metadata": {
    "tags": []
   },
   "outputs": [],
   "source": [
    "def invoke_claude(text, max_tokens_to_sample=1000): \n",
    "\n",
    "    body = json.dumps({\n",
    "        \"prompt\": f\"\\n\\nHuman:{text}\\n\\nAssistant: \",\n",
    "        \"max_tokens_to_sample\": max_tokens_to_sample,\n",
    "        \"temperature\": 0.1,\n",
    "        \"top_p\": 0.9,\n",
    "    })\n",
    "\n",
    "    modelId = 'anthropic.claude-v2'\n",
    "    accept = 'application/json'\n",
    "    contentType = 'application/json'\n",
    "\n",
    "    response = bedrock_runtime.invoke_model(body=body, modelId=modelId, accept=accept, contentType=contentType)\n",
    "\n",
    "    response_body = json.loads(response.get('body').read())\n",
    "\n",
    "    return response_body.get('completion')[1:]"
   ]
  },
  {
   "cell_type": "code",
   "execution_count": null,
   "id": "617b3aa4-902d-4406-8c59-2a5086681015",
   "metadata": {
    "tags": []
   },
   "outputs": [],
   "source": [
    "chat = BedrockChat(\n",
    "    client=bedrock_runtime,\n",
    "    model_id=\"anthropic.claude-v2\",\n",
    "    model_kwargs={\n",
    "        \"temperature\":0.0,\n",
    "        \"max_tokens_to_sample\": 2000},\n",
    ")"
   ]
  },
  {
   "cell_type": "markdown",
   "id": "8eb24721-9961-42b2-abf2-fa09e37b8a9a",
   "metadata": {},
   "source": [
    "## 基本的なアプリケーションの作成"
   ]
  },
  {
   "cell_type": "markdown",
   "id": "972c4407-974c-4181-8202-12917e2ff443",
   "metadata": {},
   "source": [
    "名前の候補を考えてくれるアプリケーションを作成してみましょう。  \n",
    "まずはアプリケーションで利用する LLM のライブラリの名前の候補を5つ Claude に考えてもらいましょう。  \n",
    "以下のようなプロンプトを与えます。  "
   ]
  },
  {
   "cell_type": "code",
   "execution_count": null,
   "id": "fb536520-dff4-4a27-a43c-66a23fa2e672",
   "metadata": {
    "tags": []
   },
   "outputs": [],
   "source": [
    "prompt = \"LLMのプロンプトエンジニアリングのためにテンプレートを作ることができるライブラリの名前の候補を5つ考えてください。\"\n",
    "print(invoke_claude(prompt))"
   ]
  },
  {
   "cell_type": "markdown",
   "id": "9c8fc56d-65bd-4a00-a0bb-520f700d8fd9",
   "metadata": {},
   "source": [
    "それらしい回答が得られたのではないかと思います。  \n",
    "出力結果をプログラムで利用しやすくするため、余計な部分を除いてリストのみの出力を強制させます。  "
   ]
  },
  {
   "cell_type": "code",
   "execution_count": null,
   "id": "faa721b1-8f02-4401-9d1e-6d8f546031fa",
   "metadata": {
    "tags": []
   },
   "outputs": [],
   "source": [
    "prompt = \"LLMのプロンプトエンジニアリングのためにテンプレートを作ることができるライブラリの名前の候補を5つ考えてください。ただし、リストのみを出力してください。\"\n",
    "print(invoke_claude(prompt))"
   ]
  },
  {
   "cell_type": "markdown",
   "id": "018b019a-e657-4b74-980f-1af771a99465",
   "metadata": {},
   "source": [
    "リスト形式での回答が得られました。  "
   ]
  },
  {
   "cell_type": "markdown",
   "id": "a824493a-a70a-474f-bbde-525ec6e83e47",
   "metadata": {
    "tags": []
   },
   "source": [
    "### プロンプトテンプレートの活用"
   ]
  },
  {
   "cell_type": "markdown",
   "id": "db25aea5-34ce-4356-8c37-2c2d1cda25c6",
   "metadata": {
    "tags": []
   },
   "source": [
    "次に、LLM のライブラリ以外にも名前を考えてもらえるようにしましょう。  \n",
    "プロンプトのテンプレートを作り、文字列の format 関数でテンプレートの一部を置き換えられるようにします。  \n",
    "（LLM とは関係なく Python の format 関数ですので、f文字列の利用も可能です。）"
   ]
  },
  {
   "cell_type": "code",
   "execution_count": null,
   "id": "df81ae65-25cd-4ee4-925f-df04a2a70c1e",
   "metadata": {
    "tags": []
   },
   "outputs": [],
   "source": [
    "prompt_template = \"{something}の名前の候補を5つ考えてください。ただし、リストのみを出力してください。\""
   ]
  },
  {
   "cell_type": "code",
   "execution_count": null,
   "id": "d869ecae-6cf3-4c03-ad9e-c4f3c49d2927",
   "metadata": {
    "tags": []
   },
   "outputs": [],
   "source": [
    "prompt = prompt_template.format(something=\"肉汁が溢れるハンバーグと焼きたてのバンズからなる美味しいハンバーガー\")\n",
    "print('Prompt:', prompt)\n",
    "print('Output:', invoke_claude(prompt))"
   ]
  },
  {
   "cell_type": "code",
   "execution_count": null,
   "id": "2e242495-1e01-473a-9376-169fa647619c",
   "metadata": {
    "tags": []
   },
   "outputs": [],
   "source": [
    "prompt = prompt_template.format(something=\"お年寄りにも使いやすいチャットシステム\")\n",
    "print('Prompt:', prompt)\n",
    "print('Output:', invoke_claude(prompt))"
   ]
  },
  {
   "cell_type": "markdown",
   "id": "ba4ecce3-4761-4ab9-ac25-0bda5e96fe30",
   "metadata": {},
   "source": [
    "より多くの情報をプロンプトに入力することもできます。  \n",
    "システムアーキテクトとして Web サービスのアーキテクチャ設計を行うものを作ってみましょう。"
   ]
  },
  {
   "cell_type": "code",
   "execution_count": null,
   "id": "0e642aec-9467-490a-baa1-7db16d663e24",
   "metadata": {
    "tags": []
   },
   "outputs": [],
   "source": [
    "prompt_template = \"\"\"\n",
    "以下のようなシステムのアーキテクチャを考えてください。  \n",
    "システム概要: {about}\n",
    "システム規模: {scale}  \n",
    "機能: {features}\n",
    "\"\"\"\n",
    "\n",
    "prompt = prompt_template.format(\n",
    "    about=\"衣料品を販売するECサイト\", \n",
    "    scale=\"ピーク時には毎分10000リクエストに対応できる必要があります。また、グローバルに利用可能である必要があります。また、応答性が高く高速である必要があります。\", \n",
    "    features=\"\"\"次の3つのページを含んでいる必要があります。\n",
    "    1.製品について解説したランディングページ。 2. 会社概要を説明するページ 3. 採用情報ページ\n",
    "    \"\"\"\n",
    ")\n",
    "\n",
    "print('Prompt:', prompt)\n",
    "print('Output:', invoke_claude(prompt))"
   ]
  },
  {
   "cell_type": "markdown",
   "id": "1f2fb8ee-541e-4c52-a3ae-98ca741862bd",
   "metadata": {},
   "source": [
    "以上のような回答でも十分かもしれませんが、より分かりやすい回答を引き出すようにプロンプトを工夫します。  \n",
    "「あなたは熟達したシステムアーキテクトです」のように、役割を含めてプロンプトを作成します。(Role Prompting)"
   ]
  },
  {
   "cell_type": "code",
   "execution_count": null,
   "id": "96bfdd74-950f-42a7-a4c6-4af83fdf27cd",
   "metadata": {
    "tags": []
   },
   "outputs": [],
   "source": [
    "prompt_template = \"\"\"\n",
    "あなたは熟達したシステムアーキテクトです。初心者にとっても専門用語を噛み砕いて分かりやすい説明をすることで有名です。\n",
    "以下のようなシステムのアーキテクチャを考えてください。 \n",
    "システム概要: {about}\n",
    "システム規模: {scale}  \n",
    "機能: {features}\n",
    "\"\"\"\n",
    "\n",
    "prompt = prompt_template.format(\n",
    "    about=\"衣料品を販売するECサイト\", \n",
    "    scale=\"ピーク時には毎分10000リクエストに対応できる必要があります。また、グローバルに利用可能である必要があります。また、応答性が高く高速である必要があります。\", \n",
    "    features=\"\"\"次の3つのページを含んでいる必要があります。\n",
    "    1.製品について解説したランディングページ。 2. 会社概要を説明するページ 3. 採用情報ページ\n",
    "    \"\"\"\n",
    ")\n",
    "\n",
    "print('Prompt:', prompt)\n",
    "print('Output:', invoke_claude(prompt))"
   ]
  },
  {
   "cell_type": "markdown",
   "id": "ae86effb-a855-4c2e-8e0c-151928b7e409",
   "metadata": {
    "tags": []
   },
   "source": [
    "初心者にとっても分かりやすい説明が出力されました。  \n",
    "さらに、プロンプトを構造化することで、より良い出力結果が得られやすいようにします。  \n",
    "入力する情報を<></>タグで囲い、構造化することで、より入力に即した結果が返りやすくなります。"
   ]
  },
  {
   "cell_type": "code",
   "execution_count": null,
   "id": "8092f24f-46bc-4392-8283-744e5559918a",
   "metadata": {
    "tags": []
   },
   "outputs": [],
   "source": [
    "prompt_template = \"\"\"\n",
    "<Instruction>\n",
    "あなたは熟達したシステムアーキテクトです。初心者にとっても専門用語を噛み砕いて分かりやすい説明をすることで有名です。\n",
    "システムの概要、規模、機能の情報をもとにお客様の要求を分析し、セキュリティ・パフォーマンス・運用性・信用性・コスト最適といった観点でアーキテクチャを考案してください。\n",
    "また、高校生にもわかるように、専門用語を噛み砕いて説明してください。\n",
    "</Instruction> \n",
    "<Requirements>\n",
    "    <About>\n",
    "        {about}\n",
    "    </About>\n",
    "    <Scale>\n",
    "        {scale}\n",
    "    </Scale>\n",
    "    <Feature>\n",
    "        {features}\n",
    "    </Feature>\n",
    "</Requirements>\n",
    "\"\"\""
   ]
  },
  {
   "cell_type": "code",
   "execution_count": null,
   "id": "4bbd9326-9bcf-4ab5-a252-48bc4da41581",
   "metadata": {
    "tags": []
   },
   "outputs": [],
   "source": [
    "prompt = prompt_template.format(\n",
    "    about=\"ECサイトのためのウェブサイト\", \n",
    "    scale=\"ピーク時には毎秒10000リクエストに対応できる必要があります。また、グローバルに利用可能である必要があります。また、応答性が高く高速である必要があります。\", \n",
    "    features=\"\"\"次の3つのページを含んでいる必要があります。\n",
    "    1.製品について解説したランディングページ。 2. 会社概要を説明するページ 3. 採用情報ページ\n",
    "    \"\"\"\n",
    ")\n",
    "\n",
    "print('Prompt:', prompt)\n",
    "print('Output:', invoke_claude(prompt))"
   ]
  },
  {
   "cell_type": "markdown",
   "id": "54cc02ef-511e-4bda-a507-84ce3dc3b585",
   "metadata": {
    "tags": []
   },
   "source": [
    "いかがでしょうか、先ほどよりもさらに洗練され、分かりやすい説明が出力されたのではないでしょうか。  \n",
    "このように、プロンプトを工夫することで、基盤モデルの出力を向上させることができます。  "
   ]
  },
  {
   "cell_type": "markdown",
   "id": "f5331285-8ba8-40dd-9d39-2969f9ab3009",
   "metadata": {},
   "source": [
    "### 練習1"
   ]
  },
  {
   "cell_type": "markdown",
   "id": "770e6b3a-8d8b-4243-967f-25eac102e563",
   "metadata": {
    "tags": []
   },
   "source": [
    "あなたは、マーケティングチームの一員です。  \n",
    "お客様ごとにカスタマイズされたマーケティングメールを大規模に提供できるように取り組んでいます。  \n",
    "そこで、基盤モデルでマーケティングメールを自動生成させたいと考えています。\n",
    "\n",
    "メールにはユーザーに関する以下の情報を含めることとします。（データベースから取得する想定）\n",
    "* 名前 (name)\n",
    "* 年齢 (age)\n",
    "* 興味のあるもの (文字列のリスト)\n",
    "\n",
    "また、製品の情報として、以下の情報を持った辞書型変数も利用することが可能です。\n",
    "* 商品名 \n",
    "* 詳細\n",
    "\n",
    "これらの情報をもとに、お客様ごとに最適化されたセールスメールを生成するプロンプトを作成してください。"
   ]
  },
  {
   "cell_type": "code",
   "execution_count": null,
   "id": "ef269791-6e22-45c6-a289-cefe6f46397a",
   "metadata": {
    "tags": []
   },
   "outputs": [],
   "source": [
    "from typing import List\n",
    "\n",
    "def create_email_copy(name: str, age: int, interests: List[str], product: dict) -> str:\n",
    "    # 以下のテンプレートを書き換えてください\n",
    "    copy_msg = f'''\n",
    "    {name}様に{product['name']}という商品を買ってもらうための宣伝メールを書いてください。\n",
    "    ただし、{name}様は、{str(age)}歳で、{' と '.join(interests)}に関心を持っています。\n",
    "    {product['name']}のセールスポイントは、{product['detail']}です。\n",
    "    '''\n",
    "    return copy_msg\n",
    "\n",
    "# 商品情報\n",
    "product = {\n",
    "    'name': 'ジェットバイク',\n",
    "    'detail': '空を自由に飛ぶことができるバイク'\n",
    "}\n",
    "\n",
    "# お客様情報\n",
    "users = [\n",
    "    {\n",
    "        \"name\": \"浦島太郎\",\n",
    "        \"age\": 56,\n",
    "        \"interests\": [\"釣り\", \"盆栽\"]\n",
    "    },\n",
    "    {\n",
    "        \"name\": \"白雪姫\",\n",
    "        \"age\": 17,\n",
    "        \"interests\": [\"美容\", \"衣服\", \"ダンス\"]\n",
    "    }\n",
    "]\n",
    "\n",
    "for user in users:\n",
    "    prompt = create_email_copy(**user, product=product)\n",
    "    print('Prompt:\\n', prompt)\n",
    "    print('Output:\\n', invoke_claude(prompt))"
   ]
  },
  {
   "cell_type": "markdown",
   "id": "19d4ecf5-fa74-4fea-9a40-6bf8912032d6",
   "metadata": {},
   "source": [
    "## 複数のプロンプトを組み合わせたシステムを構築する"
   ]
  },
  {
   "cell_type": "markdown",
   "id": "f2a17e8f-b5ea-4ea6-bd67-300879a7d2f2",
   "metadata": {},
   "source": [
    "### 基本的なチェーン"
   ]
  },
  {
   "cell_type": "markdown",
   "id": "a380933b-84fb-4f18-9fc7-45d934f541de",
   "metadata": {
    "tags": []
   },
   "source": [
    "LLMシステムを開発する中で、LLMを多段で使ったり、他システムと連携したりする必要が出てきます。  \n",
    "LangChain はこういった課題を解決するライブラリです。"
   ]
  },
  {
   "cell_type": "markdown",
   "id": "3bb3113e-4254-4438-a3c5-993ed36eeec7",
   "metadata": {
    "tags": []
   },
   "source": [
    "ここでは、マーケティング支援アプリを例にとって、プロンプトをつなげていく処理を作成してみます。  \n",
    "提供している製品の情報から企業名とサービス名を考案し、その情報をもとにスローガンを考えます。"
   ]
  },
  {
   "cell_type": "markdown",
   "id": "f8db1b0a-8139-4e8d-9c36-bca5a98fbd32",
   "metadata": {},
   "source": [
    "まずはLangChainで使えるようにBedrockChat LLMを定義します。 "
   ]
  },
  {
   "cell_type": "code",
   "execution_count": null,
   "id": "5ac7234c-17c7-4016-b018-a36635c78d64",
   "metadata": {
    "tags": []
   },
   "outputs": [],
   "source": [
    "llm = BedrockChat(\n",
    "    client=bedrock_runtime,\n",
    "    model_id=\"anthropic.claude-v2\",\n",
    "    model_kwargs={\n",
    "        \"temperature\":0.0,\n",
    "        \"max_tokens_to_sample\": 2000},\n",
    ")"
   ]
  },
  {
   "cell_type": "markdown",
   "id": "01926186-c8af-43e7-bb57-43815da87e4e",
   "metadata": {},
   "source": [
    "会社名を考えるChainを作成します。"
   ]
  },
  {
   "cell_type": "code",
   "execution_count": null,
   "id": "fc0769c2-13eb-4f84-a878-1aa04999e3ba",
   "metadata": {
    "tags": []
   },
   "outputs": [],
   "source": [
    "prompt = PromptTemplate(\n",
    "    input_variables=[\"product\"],\n",
    "    template=\"\"\"\n",
    "    <instruction>\n",
    "    あなたはマーケティングの熟練者です。\n",
    "    {product}を提供している会社について、独自性があり、誰にとっても覚えやすいような会社名を考えてください。\n",
    "    ただし、会社名のみを出力し、それ以外のコメントは出力しないでください。\n",
    "    </instruction>\n",
    "    \"\"\"\n",
    ")"
   ]
  },
  {
   "cell_type": "code",
   "execution_count": null,
   "id": "a2de1e1f-9448-43c2-b291-3a338340d0c3",
   "metadata": {
    "tags": []
   },
   "outputs": [],
   "source": [
    "# LLMChainの実装\n",
    "company_name_chain = LLMChain(llm=llm, prompt=prompt, output_key=\"company_name\")"
   ]
  },
  {
   "cell_type": "code",
   "execution_count": null,
   "id": "21087968-c5ea-4a14-a9ae-d0ac7bf01336",
   "metadata": {
    "tags": []
   },
   "outputs": [],
   "source": [
    "product = \"スマートフォンゲーム\"\n",
    "company_name = company_name_chain.run(product)\n",
    "print('output:', company_name)"
   ]
  },
  {
   "cell_type": "markdown",
   "id": "54ed8193-7c9d-4121-96c4-4ab2580dd05e",
   "metadata": {},
   "source": [
    "また出力をバッチ的に一度に生成することも可能です"
   ]
  },
  {
   "cell_type": "code",
   "execution_count": null,
   "id": "498e84a5-c507-4836-8860-0fb4bcb0b3ed",
   "metadata": {
    "tags": []
   },
   "outputs": [],
   "source": [
    "qs = [\n",
    "    {'product': \"スポーツドリンク\"},\n",
    "    {'product': \"運動靴\"},\n",
    "    {'product': \"野球用グローブ\"},\n",
    "]\n",
    "\n",
    "company_name_generated = company_name_chain.generate(qs)"
   ]
  },
  {
   "cell_type": "code",
   "execution_count": null,
   "id": "2c418295-67c2-4ce4-a751-3b50628e34f5",
   "metadata": {
    "tags": []
   },
   "outputs": [],
   "source": [
    "for response in company_name_generated.generations:\n",
    "    print(response[0].text)"
   ]
  },
  {
   "cell_type": "markdown",
   "id": "3ba3bc0e-a31e-4404-b482-f80e496a2fd1",
   "metadata": {},
   "source": [
    "1つのプロンプトのみでは解決困難な、より現実的な問題を考えます。  \n",
    "今回は、先ほど生成した会社名をもとに、開発可能なサービスに関するリストを出力します"
   ]
  },
  {
   "cell_type": "code",
   "execution_count": null,
   "id": "37c753be-1ad4-4564-8db4-ef012254a7a8",
   "metadata": {
    "tags": []
   },
   "outputs": [],
   "source": [
    "services_prompt = PromptTemplate(\n",
    "    input_variables=[\"company_name\", \"product\"],\n",
    "    template=\"\"\"{company_name}が開発可能な{product}に関するサービスのリストを出力してください。\n",
    "    ただし、出力結果は, 区切りのリスト形式である必要があります。また、リストのみを出力しそれ以外の情報は出力しないでください。\n",
    "    <example>(abc, def, ghi, jkl)</example>\"\"\",\n",
    ")\n",
    "services_chain = LLMChain(\n",
    "    llm=llm,\n",
    "    prompt=services_prompt,\n",
    "    output_key=\"services\"\n",
    ")"
   ]
  },
  {
   "cell_type": "code",
   "execution_count": null,
   "id": "7a3c5dfa-eb5a-46fd-b7fb-5889f4fdad44",
   "metadata": {
    "tags": []
   },
   "outputs": [],
   "source": [
    "services = services_chain.run(product=product, company_name=company_name)\n",
    "print(services)"
   ]
  },
  {
   "cell_type": "markdown",
   "metadata": {},
   "source": [
    "次に企業のスローガンを作成します。"
   ]
  },
  {
   "cell_type": "code",
   "execution_count": null,
   "id": "02f0c945-96b1-4b85-8953-088bb7b69253",
   "metadata": {
    "tags": []
   },
   "outputs": [],
   "source": [
    "slogan_prompt = PromptTemplate(\n",
    "    input_variables=['product','company_name','services'],\n",
    "    template=\"\"\"\n",
    "    <instruction>\n",
    "    あなたはマーケティングの熟練者です。\n",
    "    独自性が高く、かつ覚えやすいようなスローガンを考えてください。\n",
    "    ただし、生成したスローガンのみを出力し、他のコメントや情報は出力しないようにしてください。\n",
    "    </instruction>\n",
    "    <context>\n",
    "    企業名は{company_name}で{product}を販売しています。\n",
    "    また、{services}といったサービスを提供しています。 \n",
    "    </context>\n",
    "    \"\"\"\n",
    ")\n",
    "# Slogan chain\n",
    "slogan_chain = LLMChain(\n",
    "    llm=llm,\n",
    "    prompt=slogan_prompt,\n",
    "    output_key=\"slogan\"\n",
    ")"
   ]
  },
  {
   "cell_type": "code",
   "execution_count": null,
   "id": "5772216b-4ec0-44ac-916a-422f1a411e37",
   "metadata": {
    "tags": []
   },
   "outputs": [],
   "source": [
    "slogan = slogan_chain.run(product=product, company_name=company_name, services=services)"
   ]
  },
  {
   "cell_type": "code",
   "execution_count": null,
   "id": "23b579dd-ca13-4c4c-8d40-770d63b84279",
   "metadata": {
    "tags": []
   },
   "outputs": [],
   "source": [
    "print(slogan)"
   ]
  },
  {
   "cell_type": "markdown",
   "id": "6c7efc45-90f5-49b0-8296-26bc2940487a",
   "metadata": {},
   "source": [
    "### チェーンを接続する"
   ]
  },
  {
   "cell_type": "markdown",
   "id": "c90a844a-f941-40e8-983b-041a60fb67ed",
   "metadata": {},
   "source": [
    "ここまで、各プロンプトごとに入力・出力を定義し、必要な出力を得るためのプロンプトテンプレートを設計しました。  \n",
    "次に、一連の動作を一括で行うようなチェーンを構築します。  "
   ]
  },
  {
   "cell_type": "code",
   "execution_count": null,
   "id": "69ccd185-5470-4a2e-87ee-9fd4bf1e3110",
   "metadata": {
    "tags": []
   },
   "outputs": [],
   "source": [
    "marketing_chain = SequentialChain(\n",
    "    chains=[company_name_chain, services_chain, slogan_chain],\n",
    "    input_variables=['product'],\n",
    "    output_variables=['company_name', 'services', 'slogan']\n",
    ")"
   ]
  },
  {
   "cell_type": "code",
   "execution_count": null,
   "id": "4138fcb6-36a6-4302-b1cb-52ded48ab80f",
   "metadata": {
    "tags": []
   },
   "outputs": [],
   "source": [
    "marketing_chain(\"スマートフォンゲーム\")"
   ]
  },
  {
   "cell_type": "markdown",
   "id": "e5089b04-4d5d-4278-9f26-5dc91d87fcc8",
   "metadata": {
    "tags": []
   },
   "source": [
    "販売する製品を入力すると、会社名、サービス、会社のスローガンを考えてくれるチェーンができました。  "
   ]
  },
  {
   "cell_type": "markdown",
   "id": "26eef5ce-aa1f-4504-b55c-cad61a6d515c",
   "metadata": {},
   "source": [
    "### 練習2\n",
    "\n",
    "これまでの内容をもとに、オンラインマガジンの料理記事を作成できるチェーンを作成しましょう。  \n",
    "チェーンのINPUTとして与えられる旅行先に関する情報をチェーンで拡充していきます。 \n",
    "\n",
    "記事には以下の内容を含めてください。\n",
    "\n",
    "* 旅行先の概要\n",
    "* その地域でやるべきことのリスト\n",
    "* 有名な郷土料理のレシピ（説明、材料のリスト、ステップバイステップの説明）\n",
    "\n",
    "次の入力に基づいて記事を作成する必要があります。\n",
    "\n",
    "* 旅行先（都市、国）\n",
    "\n",
    "**余裕があれば考えてみましょう**  \n",
    "* チェーンごとに出力のクオリティをチェックするような設計も検討してみましょう\n",
    "* 結果を改善するための適切なエンジニアリング方法を考えてみましょう"
   ]
  },
  {
   "cell_type": "code",
   "execution_count": null,
   "id": "a22a84ff-6c72-448b-90e1-529cefe8534c",
   "metadata": {
    "tags": []
   },
   "outputs": [],
   "source": [
    "# 1. 目的地の概要を生成するチェーンを作成\n",
    "overview_prompt = PromptTemplate(\n",
    "    input_variables=[\"destination\"],\n",
    "    template=\"\"\"{destination}の概要を教えてください。\"\"\"\n",
    ")\n",
    "overview_chain = LLMChain(llm=llm, prompt=overview_prompt, output_key=\"overview\")\n",
    "\n",
    "# 2. おすすめのアクティビティを生成するチェーンを作成  \n",
    "activities_prompt = PromptTemplate(\n",
    "    input_variables=[\"destination\"],\n",
    "    template=\"{destination}でできるアクティビティを教えてください。\",\n",
    ")\n",
    "activities_chain = LLMChain(\n",
    "    llm=llm,\n",
    "    prompt=activities_prompt,\n",
    "    output_key=\"activities\"\n",
    ")\n",
    "\n",
    "# 3. その土地で有名な料理とレシピを生成するチェーンを作成\n",
    "recipe_prompt = PromptTemplate(\n",
    "    input_variables=['destination'],\n",
    "    template=\"\"\"\n",
    "    {destination}で最も有名な料理の名前とレシピを教えてください。\n",
    "    ただし、材料と作り方を含めてください。\n",
    "    以下は解答例です。\n",
    "    # 料理の名前\n",
    "        - カレー\n",
    "    # 材料\n",
    "        - 牛肉\n",
    "        - カレールウ\n",
    "        - タマネギ\n",
    "        - スパイス\n",
    "    # 作り方\n",
    "        1. タマネギを炒める \n",
    "        2. 牛肉を炒める\n",
    "        3. 全て入れて熱する\n",
    "    \"\"\"\n",
    ")\n",
    "recipe_chain = LLMChain(\n",
    "    llm=llm,\n",
    "    prompt=recipe_prompt,\n",
    "    output_key=\"recipe\"\n",
    ")\n"
   ]
  },
  {
   "cell_type": "code",
   "execution_count": null,
   "id": "0d74b4a9-f110-417e-a81e-cfc2d16751dc",
   "metadata": {
    "tags": []
   },
   "outputs": [],
   "source": [
    "from pprint import pprint"
   ]
  },
  {
   "cell_type": "code",
   "execution_count": null,
   "id": "7a99ad8d-978a-482c-8439-1e65ad19df43",
   "metadata": {
    "tags": []
   },
   "outputs": [],
   "source": [
    "magagine_chain = SequentialChain(\n",
    "    chains=[overview_chain, activities_chain, recipe_chain],\n",
    "    input_variables=['destination'],\n",
    "    output_variables=['overview', 'activities', 'recipe']\n",
    ")\n",
    "pprint(magagine_chain('東京'))"
   ]
  },
  {
   "cell_type": "markdown",
   "id": "75fbe19e-0703-44b9-b839-af8d5fb522d3",
   "metadata": {},
   "source": [
    "旅行記事はできたでしょうか。  \n",
    "ぜひプロンプトも変えて、試してみてください。  "
   ]
  },
  {
   "cell_type": "markdown",
   "id": "fe6e554c-21f2-402c-80fc-eafb540c51fa",
   "metadata": {
    "tags": []
   },
   "source": [
    "## まとめ\n",
    "\n",
    "この章では、基本的なプロンプトエンジニアリングと、LangChainによる抽象化について確認しました。  \n",
    "モデルの利用方法、プロンプトテンプレートの作成、一連のステップの連鎖について学びました。  \n",
    "プロンプトは Python のフォーマット機能で生成することもできますし、LangChain などのライブラリをうまく活用することで、より構造化された状態で生成することもできます。  "
   ]
  }
 ],
 "metadata": {
  "availableInstances": [
   {
    "_defaultOrder": 0,
    "_isFastLaunch": true,
    "category": "General purpose",
    "gpuNum": 0,
    "hideHardwareSpecs": false,
    "memoryGiB": 4,
    "name": "ml.t3.medium",
    "vcpuNum": 2
   },
   {
    "_defaultOrder": 1,
    "_isFastLaunch": false,
    "category": "General purpose",
    "gpuNum": 0,
    "hideHardwareSpecs": false,
    "memoryGiB": 8,
    "name": "ml.t3.large",
    "vcpuNum": 2
   },
   {
    "_defaultOrder": 2,
    "_isFastLaunch": false,
    "category": "General purpose",
    "gpuNum": 0,
    "hideHardwareSpecs": false,
    "memoryGiB": 16,
    "name": "ml.t3.xlarge",
    "vcpuNum": 4
   },
   {
    "_defaultOrder": 3,
    "_isFastLaunch": false,
    "category": "General purpose",
    "gpuNum": 0,
    "hideHardwareSpecs": false,
    "memoryGiB": 32,
    "name": "ml.t3.2xlarge",
    "vcpuNum": 8
   },
   {
    "_defaultOrder": 4,
    "_isFastLaunch": true,
    "category": "General purpose",
    "gpuNum": 0,
    "hideHardwareSpecs": false,
    "memoryGiB": 8,
    "name": "ml.m5.large",
    "vcpuNum": 2
   },
   {
    "_defaultOrder": 5,
    "_isFastLaunch": false,
    "category": "General purpose",
    "gpuNum": 0,
    "hideHardwareSpecs": false,
    "memoryGiB": 16,
    "name": "ml.m5.xlarge",
    "vcpuNum": 4
   },
   {
    "_defaultOrder": 6,
    "_isFastLaunch": false,
    "category": "General purpose",
    "gpuNum": 0,
    "hideHardwareSpecs": false,
    "memoryGiB": 32,
    "name": "ml.m5.2xlarge",
    "vcpuNum": 8
   },
   {
    "_defaultOrder": 7,
    "_isFastLaunch": false,
    "category": "General purpose",
    "gpuNum": 0,
    "hideHardwareSpecs": false,
    "memoryGiB": 64,
    "name": "ml.m5.4xlarge",
    "vcpuNum": 16
   },
   {
    "_defaultOrder": 8,
    "_isFastLaunch": false,
    "category": "General purpose",
    "gpuNum": 0,
    "hideHardwareSpecs": false,
    "memoryGiB": 128,
    "name": "ml.m5.8xlarge",
    "vcpuNum": 32
   },
   {
    "_defaultOrder": 9,
    "_isFastLaunch": false,
    "category": "General purpose",
    "gpuNum": 0,
    "hideHardwareSpecs": false,
    "memoryGiB": 192,
    "name": "ml.m5.12xlarge",
    "vcpuNum": 48
   },
   {
    "_defaultOrder": 10,
    "_isFastLaunch": false,
    "category": "General purpose",
    "gpuNum": 0,
    "hideHardwareSpecs": false,
    "memoryGiB": 256,
    "name": "ml.m5.16xlarge",
    "vcpuNum": 64
   },
   {
    "_defaultOrder": 11,
    "_isFastLaunch": false,
    "category": "General purpose",
    "gpuNum": 0,
    "hideHardwareSpecs": false,
    "memoryGiB": 384,
    "name": "ml.m5.24xlarge",
    "vcpuNum": 96
   },
   {
    "_defaultOrder": 12,
    "_isFastLaunch": false,
    "category": "General purpose",
    "gpuNum": 0,
    "hideHardwareSpecs": false,
    "memoryGiB": 8,
    "name": "ml.m5d.large",
    "vcpuNum": 2
   },
   {
    "_defaultOrder": 13,
    "_isFastLaunch": false,
    "category": "General purpose",
    "gpuNum": 0,
    "hideHardwareSpecs": false,
    "memoryGiB": 16,
    "name": "ml.m5d.xlarge",
    "vcpuNum": 4
   },
   {
    "_defaultOrder": 14,
    "_isFastLaunch": false,
    "category": "General purpose",
    "gpuNum": 0,
    "hideHardwareSpecs": false,
    "memoryGiB": 32,
    "name": "ml.m5d.2xlarge",
    "vcpuNum": 8
   },
   {
    "_defaultOrder": 15,
    "_isFastLaunch": false,
    "category": "General purpose",
    "gpuNum": 0,
    "hideHardwareSpecs": false,
    "memoryGiB": 64,
    "name": "ml.m5d.4xlarge",
    "vcpuNum": 16
   },
   {
    "_defaultOrder": 16,
    "_isFastLaunch": false,
    "category": "General purpose",
    "gpuNum": 0,
    "hideHardwareSpecs": false,
    "memoryGiB": 128,
    "name": "ml.m5d.8xlarge",
    "vcpuNum": 32
   },
   {
    "_defaultOrder": 17,
    "_isFastLaunch": false,
    "category": "General purpose",
    "gpuNum": 0,
    "hideHardwareSpecs": false,
    "memoryGiB": 192,
    "name": "ml.m5d.12xlarge",
    "vcpuNum": 48
   },
   {
    "_defaultOrder": 18,
    "_isFastLaunch": false,
    "category": "General purpose",
    "gpuNum": 0,
    "hideHardwareSpecs": false,
    "memoryGiB": 256,
    "name": "ml.m5d.16xlarge",
    "vcpuNum": 64
   },
   {
    "_defaultOrder": 19,
    "_isFastLaunch": false,
    "category": "General purpose",
    "gpuNum": 0,
    "hideHardwareSpecs": false,
    "memoryGiB": 384,
    "name": "ml.m5d.24xlarge",
    "vcpuNum": 96
   },
   {
    "_defaultOrder": 20,
    "_isFastLaunch": false,
    "category": "General purpose",
    "gpuNum": 0,
    "hideHardwareSpecs": true,
    "memoryGiB": 0,
    "name": "ml.geospatial.interactive",
    "supportedImageNames": [
     "sagemaker-geospatial-v1-0"
    ],
    "vcpuNum": 0
   },
   {
    "_defaultOrder": 21,
    "_isFastLaunch": true,
    "category": "Compute optimized",
    "gpuNum": 0,
    "hideHardwareSpecs": false,
    "memoryGiB": 4,
    "name": "ml.c5.large",
    "vcpuNum": 2
   },
   {
    "_defaultOrder": 22,
    "_isFastLaunch": false,
    "category": "Compute optimized",
    "gpuNum": 0,
    "hideHardwareSpecs": false,
    "memoryGiB": 8,
    "name": "ml.c5.xlarge",
    "vcpuNum": 4
   },
   {
    "_defaultOrder": 23,
    "_isFastLaunch": false,
    "category": "Compute optimized",
    "gpuNum": 0,
    "hideHardwareSpecs": false,
    "memoryGiB": 16,
    "name": "ml.c5.2xlarge",
    "vcpuNum": 8
   },
   {
    "_defaultOrder": 24,
    "_isFastLaunch": false,
    "category": "Compute optimized",
    "gpuNum": 0,
    "hideHardwareSpecs": false,
    "memoryGiB": 32,
    "name": "ml.c5.4xlarge",
    "vcpuNum": 16
   },
   {
    "_defaultOrder": 25,
    "_isFastLaunch": false,
    "category": "Compute optimized",
    "gpuNum": 0,
    "hideHardwareSpecs": false,
    "memoryGiB": 72,
    "name": "ml.c5.9xlarge",
    "vcpuNum": 36
   },
   {
    "_defaultOrder": 26,
    "_isFastLaunch": false,
    "category": "Compute optimized",
    "gpuNum": 0,
    "hideHardwareSpecs": false,
    "memoryGiB": 96,
    "name": "ml.c5.12xlarge",
    "vcpuNum": 48
   },
   {
    "_defaultOrder": 27,
    "_isFastLaunch": false,
    "category": "Compute optimized",
    "gpuNum": 0,
    "hideHardwareSpecs": false,
    "memoryGiB": 144,
    "name": "ml.c5.18xlarge",
    "vcpuNum": 72
   },
   {
    "_defaultOrder": 28,
    "_isFastLaunch": false,
    "category": "Compute optimized",
    "gpuNum": 0,
    "hideHardwareSpecs": false,
    "memoryGiB": 192,
    "name": "ml.c5.24xlarge",
    "vcpuNum": 96
   },
   {
    "_defaultOrder": 29,
    "_isFastLaunch": true,
    "category": "Accelerated computing",
    "gpuNum": 1,
    "hideHardwareSpecs": false,
    "memoryGiB": 16,
    "name": "ml.g4dn.xlarge",
    "vcpuNum": 4
   },
   {
    "_defaultOrder": 30,
    "_isFastLaunch": false,
    "category": "Accelerated computing",
    "gpuNum": 1,
    "hideHardwareSpecs": false,
    "memoryGiB": 32,
    "name": "ml.g4dn.2xlarge",
    "vcpuNum": 8
   },
   {
    "_defaultOrder": 31,
    "_isFastLaunch": false,
    "category": "Accelerated computing",
    "gpuNum": 1,
    "hideHardwareSpecs": false,
    "memoryGiB": 64,
    "name": "ml.g4dn.4xlarge",
    "vcpuNum": 16
   },
   {
    "_defaultOrder": 32,
    "_isFastLaunch": false,
    "category": "Accelerated computing",
    "gpuNum": 1,
    "hideHardwareSpecs": false,
    "memoryGiB": 128,
    "name": "ml.g4dn.8xlarge",
    "vcpuNum": 32
   },
   {
    "_defaultOrder": 33,
    "_isFastLaunch": false,
    "category": "Accelerated computing",
    "gpuNum": 4,
    "hideHardwareSpecs": false,
    "memoryGiB": 192,
    "name": "ml.g4dn.12xlarge",
    "vcpuNum": 48
   },
   {
    "_defaultOrder": 34,
    "_isFastLaunch": false,
    "category": "Accelerated computing",
    "gpuNum": 1,
    "hideHardwareSpecs": false,
    "memoryGiB": 256,
    "name": "ml.g4dn.16xlarge",
    "vcpuNum": 64
   },
   {
    "_defaultOrder": 35,
    "_isFastLaunch": false,
    "category": "Accelerated computing",
    "gpuNum": 1,
    "hideHardwareSpecs": false,
    "memoryGiB": 61,
    "name": "ml.p3.2xlarge",
    "vcpuNum": 8
   },
   {
    "_defaultOrder": 36,
    "_isFastLaunch": false,
    "category": "Accelerated computing",
    "gpuNum": 4,
    "hideHardwareSpecs": false,
    "memoryGiB": 244,
    "name": "ml.p3.8xlarge",
    "vcpuNum": 32
   },
   {
    "_defaultOrder": 37,
    "_isFastLaunch": false,
    "category": "Accelerated computing",
    "gpuNum": 8,
    "hideHardwareSpecs": false,
    "memoryGiB": 488,
    "name": "ml.p3.16xlarge",
    "vcpuNum": 64
   },
   {
    "_defaultOrder": 38,
    "_isFastLaunch": false,
    "category": "Accelerated computing",
    "gpuNum": 8,
    "hideHardwareSpecs": false,
    "memoryGiB": 768,
    "name": "ml.p3dn.24xlarge",
    "vcpuNum": 96
   },
   {
    "_defaultOrder": 39,
    "_isFastLaunch": false,
    "category": "Memory Optimized",
    "gpuNum": 0,
    "hideHardwareSpecs": false,
    "memoryGiB": 16,
    "name": "ml.r5.large",
    "vcpuNum": 2
   },
   {
    "_defaultOrder": 40,
    "_isFastLaunch": false,
    "category": "Memory Optimized",
    "gpuNum": 0,
    "hideHardwareSpecs": false,
    "memoryGiB": 32,
    "name": "ml.r5.xlarge",
    "vcpuNum": 4
   },
   {
    "_defaultOrder": 41,
    "_isFastLaunch": false,
    "category": "Memory Optimized",
    "gpuNum": 0,
    "hideHardwareSpecs": false,
    "memoryGiB": 64,
    "name": "ml.r5.2xlarge",
    "vcpuNum": 8
   },
   {
    "_defaultOrder": 42,
    "_isFastLaunch": false,
    "category": "Memory Optimized",
    "gpuNum": 0,
    "hideHardwareSpecs": false,
    "memoryGiB": 128,
    "name": "ml.r5.4xlarge",
    "vcpuNum": 16
   },
   {
    "_defaultOrder": 43,
    "_isFastLaunch": false,
    "category": "Memory Optimized",
    "gpuNum": 0,
    "hideHardwareSpecs": false,
    "memoryGiB": 256,
    "name": "ml.r5.8xlarge",
    "vcpuNum": 32
   },
   {
    "_defaultOrder": 44,
    "_isFastLaunch": false,
    "category": "Memory Optimized",
    "gpuNum": 0,
    "hideHardwareSpecs": false,
    "memoryGiB": 384,
    "name": "ml.r5.12xlarge",
    "vcpuNum": 48
   },
   {
    "_defaultOrder": 45,
    "_isFastLaunch": false,
    "category": "Memory Optimized",
    "gpuNum": 0,
    "hideHardwareSpecs": false,
    "memoryGiB": 512,
    "name": "ml.r5.16xlarge",
    "vcpuNum": 64
   },
   {
    "_defaultOrder": 46,
    "_isFastLaunch": false,
    "category": "Memory Optimized",
    "gpuNum": 0,
    "hideHardwareSpecs": false,
    "memoryGiB": 768,
    "name": "ml.r5.24xlarge",
    "vcpuNum": 96
   },
   {
    "_defaultOrder": 47,
    "_isFastLaunch": false,
    "category": "Accelerated computing",
    "gpuNum": 1,
    "hideHardwareSpecs": false,
    "memoryGiB": 16,
    "name": "ml.g5.xlarge",
    "vcpuNum": 4
   },
   {
    "_defaultOrder": 48,
    "_isFastLaunch": false,
    "category": "Accelerated computing",
    "gpuNum": 1,
    "hideHardwareSpecs": false,
    "memoryGiB": 32,
    "name": "ml.g5.2xlarge",
    "vcpuNum": 8
   },
   {
    "_defaultOrder": 49,
    "_isFastLaunch": false,
    "category": "Accelerated computing",
    "gpuNum": 1,
    "hideHardwareSpecs": false,
    "memoryGiB": 64,
    "name": "ml.g5.4xlarge",
    "vcpuNum": 16
   },
   {
    "_defaultOrder": 50,
    "_isFastLaunch": false,
    "category": "Accelerated computing",
    "gpuNum": 1,
    "hideHardwareSpecs": false,
    "memoryGiB": 128,
    "name": "ml.g5.8xlarge",
    "vcpuNum": 32
   },
   {
    "_defaultOrder": 51,
    "_isFastLaunch": false,
    "category": "Accelerated computing",
    "gpuNum": 1,
    "hideHardwareSpecs": false,
    "memoryGiB": 256,
    "name": "ml.g5.16xlarge",
    "vcpuNum": 64
   },
   {
    "_defaultOrder": 52,
    "_isFastLaunch": false,
    "category": "Accelerated computing",
    "gpuNum": 4,
    "hideHardwareSpecs": false,
    "memoryGiB": 192,
    "name": "ml.g5.12xlarge",
    "vcpuNum": 48
   },
   {
    "_defaultOrder": 53,
    "_isFastLaunch": false,
    "category": "Accelerated computing",
    "gpuNum": 4,
    "hideHardwareSpecs": false,
    "memoryGiB": 384,
    "name": "ml.g5.24xlarge",
    "vcpuNum": 96
   },
   {
    "_defaultOrder": 54,
    "_isFastLaunch": false,
    "category": "Accelerated computing",
    "gpuNum": 8,
    "hideHardwareSpecs": false,
    "memoryGiB": 768,
    "name": "ml.g5.48xlarge",
    "vcpuNum": 192
   },
   {
    "_defaultOrder": 55,
    "_isFastLaunch": false,
    "category": "Accelerated computing",
    "gpuNum": 8,
    "hideHardwareSpecs": false,
    "memoryGiB": 1152,
    "name": "ml.p4d.24xlarge",
    "vcpuNum": 96
   },
   {
    "_defaultOrder": 56,
    "_isFastLaunch": false,
    "category": "Accelerated computing",
    "gpuNum": 8,
    "hideHardwareSpecs": false,
    "memoryGiB": 1152,
    "name": "ml.p4de.24xlarge",
    "vcpuNum": 96
   }
  ],
  "instance_type": "ml.t3.medium",
  "kernelspec": {
   "display_name": "Python 3 (Data Science 3.0)",
   "language": "python",
   "name": "python3__SAGEMAKER_INTERNAL__arn:aws:sagemaker:ap-northeast-1:102112518831:image/sagemaker-data-science-310-v1"
  },
  "language_info": {
   "codemirror_mode": {
    "name": "ipython",
    "version": 3
   },
   "file_extension": ".py",
   "mimetype": "text/x-python",
   "name": "python",
   "nbconvert_exporter": "python",
   "pygments_lexer": "ipython3",
   "version": "3.10.6"
  }
 },
 "nbformat": 4,
 "nbformat_minor": 5
}
